{
 "cells": [
  {
   "cell_type": "markdown",
   "id": "4d39e2e4-9480-4951-b6dc-aacff5729906",
   "metadata": {},
   "source": [
    "<h2>1. Import Library yang dibutuhkan</h2>\n",
    "terdiri dari library utama, proses preprocessing, model, visualisasi, dan evaluasi"
   ]
  },
  {
   "cell_type": "code",
   "execution_count": null,
   "id": "aeba29dc-d078-4437-a57d-c7cf7039f5ff",
   "metadata": {},
   "outputs": [],
   "source": [
    "# Import library utama\n",
    "import pandas as pd\n",
    "import numpy as np\n",
    "\n",
    "# Library untuk preprocessing dan evaluasi\n",
    "from sklearn.model_selection import train_test_split\n",
    "from sklearn.preprocessing import LabelEncoder\n",
    "from sklearn.metrics import accuracy_score, classification_report, confusion_matrix\n",
    "\n",
    "# Library untuk algoritma Naive Bayes dan Decision Tree\n",
    "from sklearn.naive_bayes import GaussianNB\n",
    "from sklearn.tree import DecisionTreeClassifier, export_text\n",
    "\n",
    "# Visualisasi jika diperlukan (untuk Decision Tree)\n",
    "import matplotlib.pyplot as plt\n",
    "from sklearn.tree import plot_tree\n",
    "\n",
    "# library evauasi\n",
    "from sklearn.metrics import accuracy_score, classification_report, confusion_matrix, roc_auc_score, roc_curve\n",
    "import matplotlib.pyplot as plt"
   ]
  },
  {
   "cell_type": "markdown",
   "id": "40ffb8e3-9c26-43da-809a-c2f57f6d97c8",
   "metadata": {},
   "source": [
    "<h2>2. Baca dataset</h2>"
   ]
  },
  {
   "cell_type": "code",
   "execution_count": null,
   "id": "da31af33-0bfe-49ae-8150-43e588c53ccc",
   "metadata": {},
   "outputs": [],
   "source": [
    "data = pd.read_excel('dataset.xlsx') "
   ]
  },
  {
   "cell_type": "code",
   "execution_count": null,
   "id": "f48954cb-2343-4ce8-bdbb-3e406ff4c51d",
   "metadata": {},
   "outputs": [],
   "source": [
    "data.head()"
   ]
  },
  {
   "cell_type": "markdown",
   "id": "5d8c9474-12bb-42a0-aebf-08402481fa46",
   "metadata": {},
   "source": [
    "<h2>3. Menghilangkan data yang tidak dibutuhkan</h2>\n",
    "Analisa atribut yang dibutuhkan pada proses model naive bayes dan decision Tree"
   ]
  },
  {
   "cell_type": "code",
   "execution_count": null,
   "id": "2a0df628-e89c-4da4-ad31-89c1a4de7c9b",
   "metadata": {},
   "outputs": [],
   "source": [
    "data_cleaned = data.drop(columns=['no', 'nim', 'nama', 'tahun masuk'])\n",
    "data_cleaned.head()"
   ]
  },
  {
   "cell_type": "markdown",
   "id": "c0301e7c-cae6-4006-a901-e0a59ce9b911",
   "metadata": {},
   "source": [
    "<h2>4. Cek Missing Value pada dataset</h2>"
   ]
  },
  {
   "cell_type": "code",
   "execution_count": null,
   "id": "70d33f9c-eeb3-4691-a22b-79ee022da8bc",
   "metadata": {},
   "outputs": [],
   "source": [
    "# Cek missing values pada dataset\n",
    "missing_values = data_cleaned.isnull().sum()\n",
    "\n",
    "# Menampilkan pesan terkait missing values\n",
    "if missing_values.sum() > 0:\n",
    "    print(\"Terdapat missing values pada dataset:\")\n",
    "    print(missing_values[missing_values > 0])\n",
    "else:\n",
    "    print(\"Tidak ada missing values pada dataset.\")"
   ]
  },
  {
   "cell_type": "markdown",
   "id": "67ba77bd-688c-4fe1-88da-eeb871c04491",
   "metadata": {},
   "source": [
    "<h2>5. PreProcess - Jika ada missing values</h2>\n",
    "<h3>Lakukan Imputasi data</h3>\n",
    "asumsinya semua data penting, maka lakukan pendekatan untuk mempertahankan data tersebut dengan cara: <br>\n",
    "jika variabel tersebut numerik gunakan pendekatan rata-rata (mean)<br>\n",
    "jika variabel tersebut kategorikal gunakan pendekatan modus (kata yang paling sering digunakan)"
   ]
  },
  {
   "cell_type": "code",
   "execution_count": null,
   "id": "69c08174-61a7-40d0-aec6-97a9120eee63",
   "metadata": {},
   "outputs": [],
   "source": [
    "# Menangani missing values numerik dengan mean\n",
    "data_cleaned['IPS5'].fillna(data_cleaned['IPS5'].mean(), inplace=True)\n",
    "\n",
    "# Menangani missing values kategorikal dengan modus\n",
    "data_cleaned['Kelas'].fillna(data_cleaned['Kelas'].mode()[0], inplace=True)\n",
    "\n",
    "# Validasi setelah penanganan\n",
    "if data.isnull().sum().sum() == 0:\n",
    "    print(\"Semua missing values telah ditangani.\")\n",
    "else:\n",
    "    print(\"Masih terdapat missing values.\")"
   ]
  },
  {
   "cell_type": "markdown",
   "id": "b3456ecd-f0ec-48e5-a39c-5e28d24af8a2",
   "metadata": {},
   "source": [
    "<h2>6. Pre-Process - Encoding Data Kategorikal</h2>\n",
    "Ubah jenis kelamin, kelas, dan kelas target menjadi angka menggunakan encoding <br>\n",
    "contoh: Laki-laki: 0; Perempuan:1"
   ]
  },
  {
   "cell_type": "code",
   "execution_count": null,
   "id": "a2b1c37b-fbc9-493d-a40f-345f56c8fb84",
   "metadata": {},
   "outputs": [],
   "source": [
    "label_encoders = {}\n",
    "for column in ['Jenis Kelamin', 'Kelas', 'status']:\n",
    "    le = LabelEncoder()\n",
    "    data_cleaned[column] = le.fit_transform(data_cleaned[column])\n",
    "    label_encoders[column] = le\n",
    "\n",
    "data_cleaned.head()"
   ]
  },
  {
   "cell_type": "markdown",
   "id": "90a2e79a-c969-4990-81f1-0254715ef481",
   "metadata": {},
   "source": [
    "<h2>7. Filter kelas target: DROP OUT dan LULUS, target yang lain di hilangkan</h2>"
   ]
  },
  {
   "cell_type": "code",
   "execution_count": null,
   "id": "6d52bc75-48f7-4ca4-b414-1cf1f73c5b1d",
   "metadata": {},
   "outputs": [],
   "source": [
    "# Memfilter dataset agar hanya menggunakan kelas target 'DROP OUT' dan 'LULUS'\n",
    "data_filtered = data_cleaned[data_cleaned['status'].isin([0, 1])]  # 0 dan 1 sesuai encoding untuk 'DROP OUT' dan 'LULUS'"
   ]
  },
  {
   "cell_type": "markdown",
   "id": "7ed8d1ce-3db1-4fd7-82ff-4afcb7e7fc63",
   "metadata": {},
   "source": [
    "<h2>8. Pisahkan fitur dan target</h2>"
   ]
  },
  {
   "cell_type": "code",
   "execution_count": null,
   "id": "8d2a9ea5-42bd-4bdd-9d9e-13affcea2fc9",
   "metadata": {},
   "outputs": [],
   "source": [
    "# Memisahkan fitur dan target\n",
    "X = data_filtered.drop(columns=['status'])\n",
    "y = data_filtered['status']"
   ]
  },
  {
   "cell_type": "markdown",
   "id": "72307061-c2f6-40d5-86ae-30fdabe649af",
   "metadata": {},
   "source": [
    "<h2>9. Perbarui kelas target menjadi 2 kelas saja</h2>"
   ]
  },
  {
   "cell_type": "code",
   "execution_count": null,
   "id": "f7ddfc8e-47be-4725-8b46-18923b03678e",
   "metadata": {},
   "outputs": [],
   "source": [
    "# Memperbarui kelas target untuk mencerminkan kelas yang digunakan\n",
    "target_classes = ['DROP OUT', 'LULUS']"
   ]
  },
  {
   "cell_type": "code",
   "execution_count": null,
   "id": "b4fb1ccc-e602-4eb8-813d-d67d13f8bed8",
   "metadata": {},
   "outputs": [],
   "source": [
    "# Menampilkan jumlah data setelah penyaringan\n",
    "print(\"Jumlah data setelah filtering:\")\n",
    "print(y.value_counts())\n",
    "print(\"\\nJumlah atribut yang digunakan:\", X.shape[1])\n",
    "print(\"Kelas target yang digunakan:\", target_classes)"
   ]
  },
  {
   "cell_type": "markdown",
   "id": "97b500bf-042a-405e-82a2-3dc42a1153e3",
   "metadata": {},
   "source": [
    "<h2>10. Bagi dataset menjadi data latih dan uji, skenario yang digunakan adalah 80:20</h2>"
   ]
  },
  {
   "cell_type": "code",
   "execution_count": null,
   "id": "14b34c17-216a-446f-a0cf-3f6faeae00b7",
   "metadata": {},
   "outputs": [],
   "source": [
    "# Bagi dataset menjadi data latih dan uji\n",
    "X_train, X_test, y_train, y_test = train_test_split(X, y, test_size=0.2, random_state=42)"
   ]
  },
  {
   "cell_type": "markdown",
   "id": "77fdfe16-d364-4a22-9402-6a2f192eb00d",
   "metadata": {},
   "source": [
    "<h1>Model Naive Bayes (pelatihan model)</h1>\n",
    "proses:<br>\n",
    "X_train: Dataset fitur untuk pelatihan (atribut input)<br>\n",
    "y_train: Target kelas untuk pelatihan.<br>\n",
    "\n",
    "**proses:**\n",
    "1. **Menghitung Probabilitas Prior ($P(C)$)**:\n",
    "   - Probabilitas prior setiap kelas dihitung berdasarkan distribusi data dalam `y_train`.\n",
    "   - Rumus:\n",
    "     $$\n",
    "     P(C) = \\frac{\\text{Jumlah sampel dalam kelas } C}{\\text{Total sampel}}\n",
    "     $$\n",
    "\n",
    "2. **Menghitung Parameter Distribusi Gaussian**:\n",
    "   - Untuk setiap kelas ($C$) dan setiap fitur ($x_i$):\n",
    "     - **Mean ($\\mu$)**: Rata-rata nilai fitur $x_i$ untuk kelas $C$.\n",
    "       $$\n",
    "       \\mu = \\frac{1}{N} \\sum_{j=1}^{N} x_{ij}\n",
    "       $$\n",
    "     - **Variansi ($\\sigma^2$)**: Variansi nilai fitur $x_i$ untuk kelas $C$.\n",
    "       $$\n",
    "       \\sigma^2 = \\frac{1}{N} \\sum_{j=1}^{N} (x_{ij} - \\mu)^2\n",
    "       $$\n",
    "\n",
    "   - Parameter ini disimpan dalam atribut model:\n",
    "     - `theta_`: Mean ($\\mu$).\n",
    "     - `var_`: Variansi ($\\sigma^2$).\n",
    "\n",
    "3. **Menghitung Probabilitas Likelihood ($P(x|C)$)**:\n",
    "   - Likelihood dihitung menggunakan distribusi Gaussian:\n",
    "     $$\n",
    "     P(x_i|C) = \\frac{1}{\\sqrt{2\\pi\\sigma^2}} \\exp\\left(-\\frac{(x_i - \\mu)^2}{2\\sigma^2}\\right)\n",
    "     $$\n",
    "   - Ini dilakukan secara efisien menggunakan logaritma untuk menghindari masalah numerik, tetapi tetap dihitung sampai proses prediksi.\n"
   ]
  },
  {
   "cell_type": "code",
   "execution_count": null,
   "id": "58c5e5af-8900-4cb1-b962-74a1ca36bbb3",
   "metadata": {},
   "outputs": [],
   "source": [
    "# Model Naive Bayes\n",
    "nb_model = GaussianNB()\n",
    "nb_model.fit(X_train, y_train)"
   ]
  },
  {
   "cell_type": "markdown",
   "id": "6f398f4c-34c9-4c27-885c-adcc244fe751",
   "metadata": {},
   "source": [
    "<h2>Uji Model naive bayes yang telah di latih menggunakan salah satu data</h2>\n",
    "Ketika diberikan data baru, model akan menghitung probabilitas posterior untuk setiap kelas menggunakan rumus:\n",
    "$$\n",
    "P(C|X) \\propto P(X|C) \\cdot P(C)\n",
    "$$\n",
    "\n",
    "Prediksi akan dilakukan dengan memilih kelas dengan probabilitas posterior tertinggi.\n"
   ]
  },
  {
   "cell_type": "code",
   "execution_count": null,
   "id": "37d8f589-15e0-4832-b4b0-0b2d90a039ea",
   "metadata": {},
   "outputs": [],
   "source": [
    "# Mengambil probabilitas prior (P(C)) dari model\n",
    "priors = nb_model.class_prior_\n",
    "\n",
    "# Mean dan variansi dari fitur untuk setiap kelas\n",
    "means = nb_model.theta_  # Mean fitur per kelas\n",
    "variances = nb_model.var_  # Variansi fitur per kelas\n",
    "\n",
    "# Ambil data satu sampel dari X_test untuk proses prediksi manual\n",
    "sample = X_test.iloc[0].values  # Ambil satu baris (sampel)\n",
    "\n",
    "# Hitung P(X|C) untuk setiap kelas\n",
    "likelihoods = []\n",
    "for idx, cls in enumerate(nb_model.classes_):  # Iterasi per kelas\n",
    "    likelihood = -0.5 * np.sum(np.log(2 * np.pi * variances[idx]))  # Log normalizer\n",
    "    likelihood -= 0.5 * np.sum(((sample - means[idx]) ** 2) / variances[idx])  # Log likelihood\n",
    "    likelihoods.append(likelihood)\n",
    "\n",
    "# Hitung log posterior P(C|X) = log(P(C)) + log(P(X|C))\n",
    "log_posteriors = np.log(priors) + likelihoods\n",
    "\n",
    "# Probabilitas prediksi (normalisasi log posterior)\n",
    "probabilities = np.exp(log_posteriors - np.max(log_posteriors))  # Stabilkan perhitungan\n",
    "probabilities /= np.sum(probabilities)\n",
    "\n",
    "# Prediksi kelas berdasarkan probabilitas maksimum\n",
    "predicted_class = nb_model.classes_[np.argmax(probabilities)]\n",
    "\n",
    "# Menampilkan hasil\n",
    "print(\"Proses Prediksi Naive Bayes:\")\n",
    "print(f\"Sampel fitur: {sample}\")\n",
    "print(f\"Prior (P(C)): {priors}\")\n",
    "print(f\"Mean per kelas: {means}\")\n",
    "print(f\"Variansi per kelas: {variances}\")\n",
    "print(f\"Likelihoods (log P(X|C)): {likelihoods}\")\n",
    "print(f\"Log posteriors (log P(C|X)): {log_posteriors}\")\n",
    "print(f\"Probabilitas prediksi (P(C|X)): {probabilities}\")\n",
    "print(f\"Prediksi kelas: {predicted_class}\")"
   ]
  },
  {
   "cell_type": "markdown",
   "id": "22bcb23b-3b2c-4fea-85cb-6b76aa2eac57",
   "metadata": {},
   "source": [
    "<h2>Evaluasi Naive Bayes</h2>"
   ]
  },
  {
   "cell_type": "code",
   "execution_count": null,
   "id": "776c3d15-2e4c-4d4b-ba79-daad4d9ac227",
   "metadata": {},
   "outputs": [],
   "source": [
    "# Prediksi dengan Naive Bayes\n",
    "y_pred_nb = nb_model.predict(X_test)\n",
    "\n",
    "# Akurasi\n",
    "accuracy_nb = accuracy_score(y_test, y_pred_nb)\n",
    "print(\"Naive Bayes Accuracy:\", accuracy_nb)\n",
    "\n",
    "# Confusion Matrix\n",
    "conf_matrix = confusion_matrix(y_test, y_pred_nb)\n",
    "\n",
    "# Visualisasi confusion matrix\n",
    "plt.figure(figsize=(8, 6))\n",
    "sns.heatmap(conf_matrix, annot=True, fmt='d', cmap='Blues', xticklabels=[\"DROP OUT\", \"LULUS\"], yticklabels=[\"DROP OUT\", \"LULUS\"])\n",
    "plt.title(\"Confusion Matrix - Naive Bayes\")\n",
    "plt.xlabel(\"Predicted Labels\")\n",
    "plt.ylabel(\"True Labels\")\n",
    "plt.show()\n",
    "\n",
    "# Classification Report\n",
    "class_report_nb = classification_report(y_test, y_pred_nb, zero_division=1)  # Handle undefined metrics\n",
    "print(\"Naive Bayes Classification Report:\\n\", class_report_nb)\n",
    "\n",
    "# ROC AUC untuk dua kelas\n",
    "try:\n",
    "    if len(nb_model.classes_) == 2:  # Jika hanya ada dua kelas\n",
    "        # Gunakan probabilitas kelas positif untuk ROC AUC\n",
    "        y_prob_nb = nb_model.predict_proba(X_test)[:, 1]  # Probabilitas kelas positif\n",
    "        fpr_nb, tpr_nb, _ = roc_curve(y_test, y_prob_nb, pos_label=1)\n",
    "        auc_score_nb = roc_auc_score(y_test, y_prob_nb)\n",
    "        print(\"Naive Bayes AUC Score:\", auc_score_nb)\n",
    "\n",
    "        # Plot ROC Curve\n",
    "        plt.figure(figsize=(8, 6))\n",
    "        plt.plot(fpr_nb, tpr_nb, label=f\"Naive Bayes (AUC = {auc_score_nb:.2f})\")\n",
    "        plt.xlabel(\"False Positive Rate\")\n",
    "        plt.ylabel(\"True Positive Rate\")\n",
    "        plt.title(\"ROC Curve - Naive Bayes\")\n",
    "        plt.legend()\n",
    "        plt.grid()\n",
    "        plt.show()\n",
    "    else:  # Jika lebih dari dua kelas\n",
    "        y_prob_nb = nb_model.predict_proba(X_test)  # Probabilitas semua kelas\n",
    "        auc_score_nb = roc_auc_score(y_test, y_prob_nb, multi_class='ovr')  # Multi-class ROC AUC\n",
    "        print(\"Naive Bayes AUC Score (multi-class):\", auc_score_nb)\n",
    "\n",
    "except ValueError as e:\n",
    "    print(f\"ROC AUC Error: {e}\")\n"
   ]
  },
  {
   "cell_type": "markdown",
   "id": "caced07d-dc46-470c-9a48-fa6467278262",
   "metadata": {},
   "source": [
    "<h1>Simpan model pelatihan Naive Bayes</h1>"
   ]
  },
  {
   "cell_type": "code",
   "execution_count": null,
   "id": "f2e01005-1318-46b2-a88e-9dccf4967095",
   "metadata": {},
   "outputs": [],
   "source": [
    "# Simpan model Naive Bayes yang sudah dilatih ke dalam file\n",
    "model_filename = \"naive_bayes_model.pkl\"\n",
    "with open(model_filename, 'wb') as model_file:\n",
    "    pickle.dump(nb_model, model_file)\n",
    "\n",
    "print(f\"Model Naive Bayes telah disimpan sebagai '{model_filename}'.\")\n",
    "\n",
    "# Load model Naive Bayes dari file\n",
    "with open(model_filename, 'rb') as model_file:\n",
    "    loaded_nb_model = pickle.load(model_file)\n",
    "\n",
    "# Implementasi: Prediksi menggunakan model yang sudah disimpan\n",
    "y_pred_loaded_model = loaded_nb_model.predict(X_test)\n",
    "\n",
    "# Evaluasi akurasi model yang dimuat ulang\n",
    "accuracy_loaded_model = accuracy_score(y_test, y_pred_loaded_model)\n",
    "print(f\"Akurasi model yang dimuat ulang: {accuracy_loaded_model}\")"
   ]
  },
  {
   "cell_type": "markdown",
   "id": "e6b7cb85-8176-4251-b6a8-4bb29e79c6a2",
   "metadata": {},
   "source": [
    "# Decision Tree\n",
    "### Input:\n",
    "- `X_train`: Fitur data latih (atribut).\n",
    "- `y_train`: Target data latih (kelas target).\n",
    "\n",
    "### Proses:\n",
    "\n",
    "1. **Membangun Struktur Decision Tree**:\n",
    "   - Model memulai dari akar (*root*) dan membagi data secara rekursif untuk membuat cabang (*branches*) berdasarkan aturan tertentu.\n",
    "   - Setiap pembagian (*split*) dilakukan pada fitur yang memaksimalkan penurunan impurity.\n",
    "   - Kriteria pembagian ditentukan oleh parameter `criterion` (default adalah `gini` untuk Gini Impurity, bisa juga `entropy`).\n",
    "2. **Menghitung Impurity (Gini atau Entropy)**:\n",
    "   - **Gini Impurity**: Mengukur ketidakseimbangan kelas pada sebuah node.\n",
    "     $$\n",
    "     Gini = 1 - \\sum_{i=1}^{n} (p_i)^2\n",
    "     $$\n",
    "     Di mana $p_i$ adalah probabilitas kelas $i$ pada node tersebut.\n",
    "\n",
    "   - **Entropy**: Mengukur ketidakpastian kelas.\n",
    "     $$\n",
    "     Entropy = - \\sum_{i=1}^{n} p_i \\log_2 (p_i)\n",
    "     $$\n",
    "     Node yang lebih \"murni\" memiliki nilai entropy atau Gini lebih rendah.\n",
    "\n",
    "3. **Memilih Fitur untuk Split**:\n",
    "   - Setiap fitur diuji untuk melihat mana yang menghasilkan impurity terendah setelah pembagian.\n",
    "   - Model memilih fitur dengan informasi paling relevan untuk membagi data.\n",
    "\n",
    "4. **Rekursi**:\n",
    "   - Setelah split pertama, model melanjutkan proses untuk setiap cabang hingga mencapai salah satu dari kondisi berikut:\n",
    "     - Semua data pada node memiliki kelas yang sama (*pure node*).\n",
    "     - Tidak ada lagi fitur yang tersedia untuk split.\n",
    "     - Kondisi pemberhentian tertentu tercapai (misalnya, maksimal kedalaman `max_depth` atau jumlah sampel minimum di node `min_samples_split`)."
   ]
  },
  {
   "cell_type": "code",
   "execution_count": null,
   "id": "797c1f1a-5018-4b71-815d-e371fce966d6",
   "metadata": {},
   "outputs": [],
   "source": [
    "# Model Decision Tree\n",
    "dt_model = DecisionTreeClassifier(random_state=42)\n",
    "dt_model.fit(X_train, y_train)"
   ]
  },
  {
   "cell_type": "markdown",
   "id": "3a81d0d1-df97-4c0f-a2b2-9cce57e78419",
   "metadata": {},
   "source": [
    "# Uji Model Decision Tree menggunakan salah satu data uji"
   ]
  },
  {
   "cell_type": "code",
   "execution_count": null,
   "id": "b20d8ca4-0726-4849-a010-67d826a4d256",
   "metadata": {},
   "outputs": [],
   "source": [
    "# Ambil satu sampel dari data uji\n",
    "single_sample = X_test.iloc[0].values.reshape(1, -1)  # Pastikan data dalam bentuk array 2D\n",
    "\n",
    "# Prediksi kelas untuk satu sampel\n",
    "predicted_class = dt_model.predict(single_sample)[0]  # Prediksi kelas\n",
    "predicted_probabilities = dt_model.predict_proba(single_sample)  # Probabilitas kelas\n",
    "\n",
    "# Menampilkan hasil prediksi\n",
    "print(\"Data Uji (Single Sample):\", single_sample)\n",
    "print(\"Prediksi Kelas:\", predicted_class)\n",
    "print(\"Probabilitas Kelas:\", predicted_probabilities)\n",
    "print(\"Kelas yang Mungkin:\", dt_model.classes_)"
   ]
  },
  {
   "cell_type": "markdown",
   "id": "e087f653-6bf9-47fe-ae5e-75110b37267a",
   "metadata": {},
   "source": [
    "# Visualisasi model decision tree"
   ]
  },
  {
   "cell_type": "code",
   "execution_count": null,
   "id": "f12a5371-c765-43c5-bce5-3a5df2960ad2",
   "metadata": {},
   "outputs": [],
   "source": [
    "# Visualisasi decision tree\n",
    "plt.figure(figsize=(12, 8))\n",
    "plot_tree(\n",
    "    dt_model,\n",
    "    feature_names=X.columns.tolist(),  # Convert Index to list\n",
    "    class_names=[str(cls) for cls in label_encoders['status'].classes_],  # Ensure class names are strings\n",
    "    filled=True\n",
    ")\n",
    "plt.show()\n",
    "\n",
    "# Alternatif teks\n",
    "tree_rules = export_text(dt_model, feature_names=X.columns.tolist())\n",
    "print(tree_rules)"
   ]
  },
  {
   "cell_type": "markdown",
   "id": "77da9441-f521-40f4-9138-87fe2e3862c3",
   "metadata": {},
   "source": [
    "# Evaluasi model Decision Tree"
   ]
  },
  {
   "cell_type": "code",
   "execution_count": null,
   "id": "7a3e05fc-a712-4487-85fa-0b9b253651c8",
   "metadata": {},
   "outputs": [],
   "source": [
    "# Akurasi dan evaluasi\n",
    "y_pred_dt = dt_model.predict(X_test)\n",
    "accuracy_dt = accuracy_score(y_test, y_pred_dt)\n",
    "print(\"Decision Tree Accuracy:\", accuracy_dt)\n",
    "\n",
    "# Buat Confusion Matrix\n",
    "conf_matrix_dt = confusion_matrix(y_test, y_pred_dt)\n",
    "\n",
    "# Visualisasi Confusion Matrix\n",
    "plt.figure(figsize=(8, 6))\n",
    "sns.heatmap(conf_matrix_dt, annot=True, fmt='d', cmap='Oranges', xticklabels=[\"DROP OUT\", \"LULUS\"], yticklabels=[\"DROP OUT\", \"LULUS\"])\n",
    "plt.title(\"Confusion Matrix - Decision Tree\")\n",
    "plt.xlabel(\"Predicted Labels\")\n",
    "plt.ylabel(\"True Labels\")\n",
    "plt.show()\n",
    "\n",
    "# Classification Report\n",
    "class_report_dt = classification_report(y_test, y_pred_dt, zero_division=1)\n",
    "print(\"Decision Tree Classification Report:\\n\", class_report_dt)\n",
    "\n",
    "# ROC AUC untuk binary classification\n",
    "try:\n",
    "    if len(dt_model.classes_) == 2:  # Binary classification\n",
    "        # Probabilitas kelas positif\n",
    "        y_prob_dt = dt_model.predict_proba(X_test)[:, 1]\n",
    "        fpr_dt, tpr_dt, _ = roc_curve(y_test, y_prob_dt, pos_label=1)\n",
    "        auc_score_dt = roc_auc_score(y_test, y_prob_dt)\n",
    "        print(\"Decision Tree AUC Score:\", auc_score_dt)\n",
    "\n",
    "        # Plot ROC Curve\n",
    "        plt.figure(figsize=(8, 6))\n",
    "        plt.plot(fpr_dt, tpr_dt, label=f\"Decision Tree (AUC = {auc_score_dt:.2f})\")\n",
    "        plt.xlabel(\"False Positive Rate\")\n",
    "        plt.ylabel(\"True Positive Rate\")\n",
    "        plt.title(\"ROC Curve - Decision Tree\")\n",
    "        plt.legend()\n",
    "        plt.grid()\n",
    "        plt.show()\n",
    "\n",
    "    else:  # Multi-class classification\n",
    "        y_prob_dt = dt_model.predict_proba(X_test)\n",
    "        auc_score_dt = roc_auc_score(y_test, y_prob_dt, multi_class='ovr')\n",
    "        print(\"Decision Tree AUC Score (multi-class):\", auc_score_dt)\n",
    "\n",
    "except ValueError as e:\n",
    "    print(f\"ROC AUC Error: {e}\")"
   ]
  },
  {
   "cell_type": "markdown",
   "id": "a552bddc-2eb1-46d0-864d-5c0495ec9a8b",
   "metadata": {},
   "source": [
    "# Simpan Model Decision Tree yang telah dilatih"
   ]
  },
  {
   "cell_type": "code",
   "execution_count": null,
   "id": "eadb526f-5d42-457a-b1e4-e275eb761bbc",
   "metadata": {},
   "outputs": [],
   "source": [
    "# Simpan model Decision Tree yang telah dilatih\n",
    "dt_model_filename = \"decision_tree_model.pkl\"\n",
    "with open(dt_model_filename, 'wb') as model_file:\n",
    "    pickle.dump(dt_model, model_file)\n",
    "\n",
    "print(f\"Model Decision Tree telah disimpan sebagai '{dt_model_filename}'.\")"
   ]
  },
  {
   "cell_type": "code",
   "execution_count": null,
   "id": "b4ad09f4-5447-4b5e-a7d8-936457568acd",
   "metadata": {},
   "outputs": [],
   "source": [
    "# Muat model Decision Tree yang telah disimpan\n",
    "with open(dt_model_filename, 'rb') as model_file:\n",
    "    loaded_dt_model = pickle.load(model_file)\n",
    "\n",
    "# Uji model yang dimuat\n",
    "y_pred_loaded_dt = loaded_dt_model.predict(X_test)\n",
    "\n",
    "# Evaluasi model\n",
    "accuracy_loaded_dt = accuracy_score(y_test, y_pred_loaded_dt)\n",
    "conf_matrix_loaded_dt = confusion_matrix(y_test, y_pred_loaded_dt)\n",
    "class_report_loaded_dt = classification_report(y_test, y_pred_loaded_dt, zero_division=1)\n",
    "\n",
    "# Tampilkan hasil evaluasi\n",
    "print(\"Akurasi model yang dimuat ulang:\", accuracy_loaded_dt)\n",
    "print(\"\\nConfusion Matrix:\")\n",
    "print(conf_matrix_loaded_dt)\n",
    "print(\"\\nClassification Report:\")\n",
    "print(class_report_loaded_dt)"
   ]
  },
  {
   "cell_type": "code",
   "execution_count": null,
   "id": "f9a9ff38-ec8a-4a7d-ac54-7cf70ae7e58f",
   "metadata": {},
   "outputs": [],
   "source": [
    "# Ambil satu sampel dari data uji\n",
    "single_sample_test = X_test.iloc[0].values.reshape(1, -1)  # Data dalam bentuk 2D\n",
    "\n",
    "# Prediksi kelas menggunakan model yang dimuat\n",
    "predicted_class_single = loaded_dt_model.predict(single_sample_test)[0]\n",
    "predicted_probabilities_single = loaded_dt_model.predict_proba(single_sample_test)\n",
    "\n",
    "# Tampilkan hasil prediksi\n",
    "print(\"Data Uji (Single Sample):\", single_sample_test)\n",
    "print(\"Prediksi Kelas:\", predicted_class_single)\n",
    "print(\"Probabilitas Kelas:\", predicted_probabilities_single)\n",
    "print(\"Kelas yang Mungkin:\", loaded_dt_model.classes_)\n"
   ]
  },
  {
   "cell_type": "code",
   "execution_count": null,
   "id": "34520878-3051-4d4d-ab2b-35e8c5fccf03",
   "metadata": {},
   "outputs": [],
   "source": [
    "# Periksa label encoding pada kolom 'status'\n",
    "label_encoders['status'].classes_  # Menampilkan urutan kelas asli"
   ]
  },
  {
   "cell_type": "code",
   "execution_count": null,
   "id": "50a106cf-f71e-4e11-8401-bf5bf5930bcf",
   "metadata": {},
   "outputs": [],
   "source": []
  }
 ],
 "metadata": {
  "kernelspec": {
   "display_name": "Python 3 (ipykernel)",
   "language": "python",
   "name": "python3"
  },
  "language_info": {
   "codemirror_mode": {
    "name": "ipython",
    "version": 3
   },
   "file_extension": ".py",
   "mimetype": "text/x-python",
   "name": "python",
   "nbconvert_exporter": "python",
   "pygments_lexer": "ipython3",
   "version": "3.11.5"
  }
 },
 "nbformat": 4,
 "nbformat_minor": 5
}
